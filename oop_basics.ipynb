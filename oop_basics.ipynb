{
 "cells": [
  {
   "cell_type": "markdown",
   "metadata": {
    "slideshow": {
     "slide_type": "skip"
    },
    "toc": true
   },
   "source": [
    "<h1>Table of Contents<span class=\"tocSkip\"></span></h1>\n",
    "<div class=\"toc\"><ul class=\"toc-item\"><li><span><a href=\"#OOP-Basics\" data-toc-modified-id=\"OOP-Basics-1\"><span class=\"toc-item-num\">1&nbsp;&nbsp;</span>OOP Basics</a></span><ul class=\"toc-item\"><li><span><a href=\"#OOP-Basics-Overview\" data-toc-modified-id=\"OOP-Basics-Overview-1.1\"><span class=\"toc-item-num\">1.1&nbsp;&nbsp;</span>OOP Basics Overview</a></span></li><li><span><a href=\"#Introduction-to-OOP\" data-toc-modified-id=\"Introduction-to-OOP-1.2\"><span class=\"toc-item-num\">1.2&nbsp;&nbsp;</span>Introduction to OOP</a></span></li><li><span><a href=\"#Introduction-to-Classes-and-Objects\" data-toc-modified-id=\"Introduction-to-Classes-and-Objects-1.3\"><span class=\"toc-item-num\">1.3&nbsp;&nbsp;</span>Introduction to Classes and Objects</a></span><ul class=\"toc-item\"><li><span><a href=\"#Challenges\" data-toc-modified-id=\"Challenges-1.3.1\"><span class=\"toc-item-num\">1.3.1&nbsp;&nbsp;</span>Challenges</a></span></li></ul></li><li><span><a href=\"#Instance-Attributes-and-Instance-Methods\" data-toc-modified-id=\"Instance-Attributes-and-Instance-Methods-1.4\"><span class=\"toc-item-num\">1.4&nbsp;&nbsp;</span>Instance Attributes and Instance Methods</a></span><ul class=\"toc-item\"><li><span><a href=\"#Challenges\" data-toc-modified-id=\"Challenges-1.4.1\"><span class=\"toc-item-num\">1.4.1&nbsp;&nbsp;</span>Challenges</a></span></li></ul></li><li><span><a href=\"#Class-Attributes-and-Class-Methods\" data-toc-modified-id=\"Class-Attributes-and-Class-Methods-1.5\"><span class=\"toc-item-num\">1.5&nbsp;&nbsp;</span>Class Attributes and Class Methods</a></span><ul class=\"toc-item\"><li><span><a href=\"#Challenges\" data-toc-modified-id=\"Challenges-1.5.1\"><span class=\"toc-item-num\">1.5.1&nbsp;&nbsp;</span>Challenges</a></span></li></ul></li><li><span><a href=\"#Static-Methods\" data-toc-modified-id=\"Static-Methods-1.6\"><span class=\"toc-item-num\">1.6&nbsp;&nbsp;</span>Static Methods</a></span><ul class=\"toc-item\"><li><span><a href=\"#Challenges\" data-toc-modified-id=\"Challenges-1.6.1\"><span class=\"toc-item-num\">1.6.1&nbsp;&nbsp;</span>Challenges</a></span></li></ul></li><li><span><a href=\"#Property-in-Python-OOP\" data-toc-modified-id=\"Property-in-Python-OOP-1.7\"><span class=\"toc-item-num\">1.7&nbsp;&nbsp;</span>Property in Python OOP</a></span><ul class=\"toc-item\"><li><span><a href=\"#Challenges\" data-toc-modified-id=\"Challenges-1.7.1\"><span class=\"toc-item-num\">1.7.1&nbsp;&nbsp;</span>Challenges</a></span></li></ul></li><li><span><a href=\"#Abstraction-and-Encapsulation\" data-toc-modified-id=\"Abstraction-and-Encapsulation-1.8\"><span class=\"toc-item-num\">1.8&nbsp;&nbsp;</span>Abstraction and Encapsulation</a></span></li><li><span><a href=\"#Copy-in-OOP\" data-toc-modified-id=\"Copy-in-OOP-1.9\"><span class=\"toc-item-num\">1.9&nbsp;&nbsp;</span>Copy in OOP</a></span><ul class=\"toc-item\"><li><span><a href=\"#Challenges\" data-toc-modified-id=\"Challenges-1.9.1\"><span class=\"toc-item-num\">1.9.1&nbsp;&nbsp;</span>Challenges</a></span></li></ul></li><li><span><a href=\"#OOP-Basics-Conclusion\" data-toc-modified-id=\"OOP-Basics-Conclusion-1.10\"><span class=\"toc-item-num\">1.10&nbsp;&nbsp;</span>OOP Basics Conclusion</a></span></li></ul></li></ul></div>"
   ]
  },
  {
   "cell_type": "code",
   "execution_count": 1,
   "metadata": {
    "slideshow": {
     "slide_type": "skip"
    }
   },
   "outputs": [],
   "source": [
    "import warnings\n",
    "warnings.filterwarnings(\"ignore\")\n",
    "\n",
    "from traitlets.config.manager import BaseJSONConfigManager\n",
    "from pathlib import Path\n",
    "path = Path.home() / \".jupyter\" / \"nbconfig\"\n",
    "cm = BaseJSONConfigManager(config_dir=str(path))\n",
    "tmp = cm.update(\n",
    "        \"rise\",\n",
    "        {\n",
    "            \"theme\": \"white\",\n",
    "            \"transition\": \"fade\",\n",
    "            \"background-color\": \"white\",\n",
    "            \"start_slideshow_at\": \"selected\",\n",
    "            \"autolaunch\": False,\n",
    "            \"width\": \"100%\",\n",
    "            \"height\": \"100%\",\n",
    "            \"header\": \"\",\n",
    "            \"scroll\": True,\n",
    "            \"enable_chalkboard\": True,\n",
    "            \"slideNumber\": True,\n",
    "            \"center\": False,\n",
    "            \"controlsLayout\": \"edges\",\n",
    "            \"slideNumber\": True,\n",
    "            \"hash\": True, \n",
    "        }\n",
    "    )"
   ]
  },
  {
   "cell_type": "markdown",
   "metadata": {
    "slideshow": {
     "slide_type": "skip"
    }
   },
   "source": [
    "# OOP Basics"
   ]
  },
  {
   "cell_type": "markdown",
   "metadata": {
    "slideshow": {
     "slide_type": "skip"
    }
   },
   "source": [
    "## OOP Basics Overview"
   ]
  },
  {
   "cell_type": "code",
   "execution_count": 2,
   "metadata": {
    "hide_input": true,
    "scrolled": false,
    "slideshow": {
     "slide_type": "slide"
    }
   },
   "outputs": [
    {
     "data": {
      "text/html": [
       "<iframe src=\"https://onedrive.live.com/embed?cid=19997B1A4B5DBE8D&amp;resid=19997B1A4B5DBE8D%216568&amp;authkey=AIhj83f9wnD-Eno&amp;em=2&amp;wdAr=1.7777777777777777\" width=\"962px\" height=\"565px\" frameborder=\"0\">This is an embedded <a target=\"_blank\" href=\"https://office.com\">Microsoft Office</a> presentation, powered by <a target=\"_blank\" href=\"https://office.com/webapps\">Office</a>.</iframe>\n"
      ],
      "text/plain": [
       "<IPython.core.display.HTML object>"
      ]
     },
     "metadata": {},
     "output_type": "display_data"
    }
   ],
   "source": [
    "%%HTML\n",
    "<iframe src=\"https://onedrive.live.com/embed?cid=19997B1A4B5DBE8D&amp;resid=19997B1A4B5DBE8D%216568&amp;authkey=AIhj83f9wnD-Eno&amp;em=2&amp;wdAr=1.7777777777777777\" width=\"962px\" height=\"565px\" frameborder=\"0\">This is an embedded <a target=\"_blank\" href=\"https://office.com\">Microsoft Office</a> presentation, powered by <a target=\"_blank\" href=\"https://office.com/webapps\">Office</a>.</iframe>"
   ]
  },
  {
   "cell_type": "markdown",
   "metadata": {
    "slideshow": {
     "slide_type": "skip"
    }
   },
   "source": [
    "## Introduction to OOP"
   ]
  },
  {
   "cell_type": "code",
   "execution_count": 3,
   "metadata": {
    "hide_input": true,
    "slideshow": {
     "slide_type": "slide"
    }
   },
   "outputs": [
    {
     "data": {
      "text/html": [
       "<iframe src=\"https://onedrive.live.com/embed?cid=19997B1A4B5DBE8D&amp;resid=19997B1A4B5DBE8D%216565&amp;authkey=AEzpNhO05OSJXJA&amp;em=2&amp;wdAr=1.7777777777777777\" width=\"962px\" height=\"565px\" frameborder=\"0\">This is an embedded <a target=\"_blank\" href=\"https://office.com\">Microsoft Office</a> presentation, powered by <a target=\"_blank\" href=\"https://office.com/webapps\">Office</a>.</iframe>\n"
      ],
      "text/plain": [
       "<IPython.core.display.HTML object>"
      ]
     },
     "metadata": {},
     "output_type": "display_data"
    }
   ],
   "source": [
    "%%HTML\n",
    "<iframe src=\"https://onedrive.live.com/embed?cid=19997B1A4B5DBE8D&amp;resid=19997B1A4B5DBE8D%216565&amp;authkey=AEzpNhO05OSJXJA&amp;em=2&amp;wdAr=1.7777777777777777\" width=\"962px\" height=\"565px\" frameborder=\"0\">This is an embedded <a target=\"_blank\" href=\"https://office.com\">Microsoft Office</a> presentation, powered by <a target=\"_blank\" href=\"https://office.com/webapps\">Office</a>.</iframe>"
   ]
  },
  {
   "cell_type": "markdown",
   "metadata": {
    "slideshow": {
     "slide_type": "skip"
    }
   },
   "source": [
    "## Introduction to Classes and Objects"
   ]
  },
  {
   "cell_type": "code",
   "execution_count": 4,
   "metadata": {
    "hide_input": true,
    "scrolled": false,
    "slideshow": {
     "slide_type": "slide"
    }
   },
   "outputs": [
    {
     "data": {
      "text/html": [
       "<iframe src=\"https://onedrive.live.com/embed?cid=19997B1A4B5DBE8D&amp;resid=19997B1A4B5DBE8D%216564&amp;authkey=ANYFeXFAUO9jUdg&amp;em=2&amp;wdAr=1.7777777777777777\" width=\"962px\" height=\"565px\" frameborder=\"0\">This is an embedded <a target=\"_blank\" href=\"https://office.com\">Microsoft Office</a> presentation, powered by <a target=\"_blank\" href=\"https://office.com/webapps\">Office</a>.</iframe>\n"
      ],
      "text/plain": [
       "<IPython.core.display.HTML object>"
      ]
     },
     "metadata": {},
     "output_type": "display_data"
    }
   ],
   "source": [
    "%%HTML\n",
    "<iframe src=\"https://onedrive.live.com/embed?cid=19997B1A4B5DBE8D&amp;resid=19997B1A4B5DBE8D%216564&amp;authkey=ANYFeXFAUO9jUdg&amp;em=2&amp;wdAr=1.7777777777777777\" width=\"962px\" height=\"565px\" frameborder=\"0\">This is an embedded <a target=\"_blank\" href=\"https://office.com\">Microsoft Office</a> presentation, powered by <a target=\"_blank\" href=\"https://office.com/webapps\">Office</a>.</iframe>"
   ]
  },
  {
   "cell_type": "code",
   "execution_count": 2,
   "metadata": {
    "slideshow": {
     "slide_type": "skip"
    }
   },
   "outputs": [
    {
     "name": "stdout",
     "output_type": "stream",
     "text": [
      "<__main__.Student object at 0x0000017FCB084088>\n"
     ]
    }
   ],
   "source": [
    "# Example 1\n",
    "\n",
    "class Student:\n",
    "    pass\n",
    "\n",
    "student = Student()\n",
    "\n",
    "print(type(student))"
   ]
  },
  {
   "cell_type": "markdown",
   "metadata": {
    "slideshow": {
     "slide_type": "subslide"
    }
   },
   "source": [
    "- How to create a class and how to name a class"
   ]
  },
  {
   "cell_type": "code",
   "execution_count": 6,
   "metadata": {},
   "outputs": [],
   "source": [
    "class Student:\n",
    "    pass"
   ]
  },
  {
   "cell_type": "markdown",
   "metadata": {
    "slideshow": {
     "slide_type": "fragment"
    }
   },
   "source": [
    "- How to create an object from the class and how to name an object"
   ]
  },
  {
   "cell_type": "code",
   "execution_count": 7,
   "metadata": {},
   "outputs": [],
   "source": [
    "new_student = Student()"
   ]
  },
  {
   "cell_type": "markdown",
   "metadata": {
    "slideshow": {
     "slide_type": "fragment"
    }
   },
   "source": [
    "- How to check the object type\n"
   ]
  },
  {
   "cell_type": "code",
   "execution_count": 8,
   "metadata": {},
   "outputs": [
    {
     "name": "stdout",
     "output_type": "stream",
     "text": [
      "<class '__main__.Student'>\n"
     ]
    }
   ],
   "source": [
    "print(type(new_student))"
   ]
  },
  {
   "cell_type": "markdown",
   "metadata": {
    "slideshow": {
     "slide_type": "subslide"
    }
   },
   "source": [
    "- Another Example "
   ]
  },
  {
   "cell_type": "code",
   "execution_count": 9,
   "metadata": {
    "slideshow": {
     "slide_type": "-"
    }
   },
   "outputs": [
    {
     "name": "stdout",
     "output_type": "stream",
     "text": [
      "<class '__main__.School'>\n"
     ]
    }
   ],
   "source": [
    "class School:\n",
    "    pass\n",
    "\n",
    "school = School()\n",
    "print(type(school))"
   ]
  },
  {
   "cell_type": "code",
   "execution_count": 10,
   "metadata": {
    "hide_input": true,
    "slideshow": {
     "slide_type": "subslide"
    }
   },
   "outputs": [
    {
     "data": {
      "text/html": [
       "<iframe src=\"https://onedrive.live.com/embed?resid=19997B1A4B5DBE8D%216563&amp;authkey=%21APIC34P6cboU5nA&amp;em=2&amp;wdAr=1.7777777777777777\" width=\"962px\" height=\"565px\" frameborder=\"0\">This is an embedded <a target=\"_blank\" href=\"https://office.com\">Microsoft Office</a> presentation, powered by <a target=\"_blank\" href=\"https://office.com/webapps\">Office</a>.</iframe>\n"
      ],
      "text/plain": [
       "<IPython.core.display.HTML object>"
      ]
     },
     "metadata": {},
     "output_type": "display_data"
    }
   ],
   "source": [
    "%%HTML\n",
    "<iframe src=\"https://onedrive.live.com/embed?resid=19997B1A4B5DBE8D%216563&amp;authkey=%21APIC34P6cboU5nA&amp;em=2&amp;wdAr=1.7777777777777777\" width=\"962px\" height=\"565px\" frameborder=\"0\">This is an embedded <a target=\"_blank\" href=\"https://office.com\">Microsoft Office</a> presentation, powered by <a target=\"_blank\" href=\"https://office.com/webapps\">Office</a>.</iframe>"
   ]
  },
  {
   "cell_type": "markdown",
   "metadata": {
    "slideshow": {
     "slide_type": "skip"
    }
   },
   "source": [
    "### Challenges\n"
   ]
  },
  {
   "cell_type": "code",
   "execution_count": null,
   "metadata": {
    "slideshow": {
     "slide_type": "skip"
    }
   },
   "outputs": [],
   "source": []
  },
  {
   "cell_type": "markdown",
   "metadata": {
    "slideshow": {
     "slide_type": "skip"
    }
   },
   "source": [
    "## Instance Attributes and Instance Methods"
   ]
  },
  {
   "cell_type": "code",
   "execution_count": 11,
   "metadata": {
    "hide_input": true,
    "scrolled": false,
    "slideshow": {
     "slide_type": "slide"
    }
   },
   "outputs": [
    {
     "data": {
      "text/html": [
       "<iframe src=\"https://onedrive.live.com/embed?cid=19997B1A4B5DBE8D&amp;resid=19997B1A4B5DBE8D%216562&amp;authkey=AJMvWHKBWZxU5dI&amp;em=2&amp;wdAr=1.7777777777777777\" width=\"962px\" height=\"565px\" frameborder=\"0\">This is an embedded <a target=\"_blank\" href=\"https://office.com\">Microsoft Office</a> presentation, powered by <a target=\"_blank\" href=\"https://office.com/webapps\">Office</a>.</iframe>\n"
      ],
      "text/plain": [
       "<IPython.core.display.HTML object>"
      ]
     },
     "metadata": {},
     "output_type": "display_data"
    }
   ],
   "source": [
    "%%HTML\n",
    "<iframe src=\"https://onedrive.live.com/embed?cid=19997B1A4B5DBE8D&amp;resid=19997B1A4B5DBE8D%216562&amp;authkey=AJMvWHKBWZxU5dI&amp;em=2&amp;wdAr=1.7777777777777777\" width=\"962px\" height=\"565px\" frameborder=\"0\">This is an embedded <a target=\"_blank\" href=\"https://office.com\">Microsoft Office</a> presentation, powered by <a target=\"_blank\" href=\"https://office.com/webapps\">Office</a>.</iframe>"
   ]
  },
  {
   "cell_type": "code",
   "execution_count": 12,
   "metadata": {
    "slideshow": {
     "slide_type": "skip"
    }
   },
   "outputs": [],
   "source": [
    "# Instance Attributes and Instance Methods\n",
    "class Student:\n",
    "#     def __init__(self):\n",
    "#         self.id = None\n",
    "#         self.first_name = ''\n",
    "#         self.last_name = ''\n",
    "#         self.full_name = first_name + \" \" + last_name\n",
    "#         self.age = None\n",
    "#         self.classes = []\n",
    "    \n",
    "    def __init__(self, student_id, first_name, last_name, age):\n",
    "        self.id = student_id\n",
    "        self.first_name = first_name\n",
    "        self.last_name = last_name\n",
    "        self.full_name = first_name + \" \" + last_name\n",
    "        self.age = age\n",
    "        self.classes = []\n",
    "    \n",
    "    def enrol(self, class_name):\n",
    "        self.classes.append(class_name)\n",
    "\n",
    "\n",
    "def print_student(student_obj):\n",
    "    print(student_obj.id)\n",
    "    print(student_obj.full_name)\n",
    "    print(student_obj.age)\n",
    "    \n",
    "# student1 = Student(1, \"Jack\", \"Ma\", 23)\n",
    "# print_student(student1)\n",
    "\n",
    "# student2 = Student(2, \"John\", \"Doe\", 22)\n",
    "# print_student(student2)\n",
    "\n",
    "# student3 = Student(1, \"James\", \"Doe\", 23)\n",
    "# print(student3.classes)\n",
    "# student3.enrol('Mathematics')\n",
    "# print(student3.classes)"
   ]
  },
  {
   "cell_type": "markdown",
   "metadata": {
    "slideshow": {
     "slide_type": "subslide"
    }
   },
   "source": [
    "- How to create __ init __, why we need it, and when it is called"
   ]
  },
  {
   "cell_type": "code",
   "execution_count": 30,
   "metadata": {},
   "outputs": [
    {
     "name": "stdout",
     "output_type": "stream",
     "text": [
      "Hi I am a new object\n",
      "<class '__main__.Student'>\n"
     ]
    }
   ],
   "source": [
    "class Student:\n",
    "    def __init__(self):\n",
    "        print('Hi I am a new object')\n",
    "        print(type(self))\n",
    "\n",
    "new_student = Student()"
   ]
  },
  {
   "cell_type": "markdown",
   "metadata": {
    "slideshow": {
     "slide_type": "fragment"
    }
   },
   "source": [
    "- How to create an instance attribute and how to name it"
   ]
  },
  {
   "cell_type": "code",
   "execution_count": 34,
   "metadata": {},
   "outputs": [
    {
     "name": "stdout",
     "output_type": "stream",
     "text": [
      "None\n"
     ]
    },
    {
     "ename": "AttributeError",
     "evalue": "'Student' object has no attribute 'id2'",
     "output_type": "error",
     "traceback": [
      "\u001b[1;31m---------------------------------------------------------------------------\u001b[0m",
      "\u001b[1;31mAttributeError\u001b[0m                            Traceback (most recent call last)",
      "\u001b[1;32m<ipython-input-34-1c55b9093afe>\u001b[0m in \u001b[0;36m<module>\u001b[1;34m\u001b[0m\n\u001b[0;32m     10\u001b[0m \u001b[0mnew_student\u001b[0m \u001b[1;33m=\u001b[0m \u001b[0mStudent\u001b[0m\u001b[1;33m(\u001b[0m\u001b[1;33m)\u001b[0m\u001b[1;33m\u001b[0m\u001b[1;33m\u001b[0m\u001b[0m\n\u001b[0;32m     11\u001b[0m \u001b[0mprint\u001b[0m\u001b[1;33m(\u001b[0m\u001b[0mnew_student\u001b[0m\u001b[1;33m.\u001b[0m\u001b[0mid\u001b[0m\u001b[1;33m)\u001b[0m\u001b[1;33m\u001b[0m\u001b[1;33m\u001b[0m\u001b[0m\n\u001b[1;32m---> 12\u001b[1;33m \u001b[0mprint\u001b[0m\u001b[1;33m(\u001b[0m\u001b[0mnew_student\u001b[0m\u001b[1;33m.\u001b[0m\u001b[0mid2\u001b[0m\u001b[1;33m)\u001b[0m\u001b[1;33m\u001b[0m\u001b[1;33m\u001b[0m\u001b[0m\n\u001b[0m",
      "\u001b[1;31mAttributeError\u001b[0m: 'Student' object has no attribute 'id2'"
     ]
    }
   ],
   "source": [
    "class Student:\n",
    "    def __init__(self):\n",
    "        self.id = None\n",
    "        self.first_name = ''\n",
    "        self.last_name = ''\n",
    "        self.full_name = self.first_name + \" \" + self.last_name\n",
    "        self.age = None\n",
    "        self.classes = []\n",
    "\n",
    "new_student = Student()\n",
    "print(new_student.id)\n",
    "print(new_student.id2)"
   ]
  },
  {
   "cell_type": "markdown",
   "metadata": {
    "slideshow": {
     "slide_type": "fragment"
    }
   },
   "source": [
    "- How to pass initial values to the instance attributes"
   ]
  },
  {
   "cell_type": "code",
   "execution_count": 38,
   "metadata": {},
   "outputs": [
    {
     "name": "stdout",
     "output_type": "stream",
     "text": [
      "1\n",
      "Jack Ma\n",
      "25\n"
     ]
    }
   ],
   "source": [
    "class Student:\n",
    "    def __init__(self, _id, first_name, last_name, age):\n",
    "        self.id = _id\n",
    "        self.first_name = first_name\n",
    "        self.last_name = last_name\n",
    "        self.full_name = self.first_name + \" \" + self.last_name\n",
    "        self.age = age\n",
    "        self.classes = []\n",
    "        \n",
    "new_student = Student(1, 'Jack', 'Ma', 25)\n",
    "print(new_student.id)\n",
    "print(new_student.full_name)\n",
    "print(new_student.age)"
   ]
  },
  {
   "cell_type": "markdown",
   "metadata": {
    "slideshow": {
     "slide_type": "fragment"
    }
   },
   "source": [
    "- Let us see the special attribute __ dict __"
   ]
  },
  {
   "cell_type": "code",
   "execution_count": 39,
   "metadata": {},
   "outputs": [
    {
     "data": {
      "text/plain": [
       "{'id': 1,\n",
       " 'first_name': 'Jack',\n",
       " 'last_name': 'Ma',\n",
       " 'full_name': 'Jack Ma',\n",
       " 'age': 25,\n",
       " 'classes': []}"
      ]
     },
     "execution_count": 39,
     "metadata": {},
     "output_type": "execute_result"
    }
   ],
   "source": [
    "new_student.__dict__"
   ]
  },
  {
   "cell_type": "markdown",
   "metadata": {
    "slideshow": {
     "slide_type": "fragment"
    }
   },
   "source": [
    "- vars() function"
   ]
  },
  {
   "cell_type": "code",
   "execution_count": 41,
   "metadata": {},
   "outputs": [
    {
     "data": {
      "text/plain": [
       "{'id': 1,\n",
       " 'first_name': 'Jack',\n",
       " 'last_name': 'Ma',\n",
       " 'full_name': 'Jack Ma',\n",
       " 'age': 25,\n",
       " 'classes': []}"
      ]
     },
     "execution_count": 41,
     "metadata": {},
     "output_type": "execute_result"
    }
   ],
   "source": [
    "vars(new_student)"
   ]
  },
  {
   "cell_type": "markdown",
   "metadata": {
    "slideshow": {
     "slide_type": "subslide"
    }
   },
   "source": [
    "- How to create an instance method and how to name it"
   ]
  },
  {
   "cell_type": "code",
   "execution_count": 45,
   "metadata": {
    "slideshow": {
     "slide_type": "-"
    }
   },
   "outputs": [],
   "source": [
    "class Student:\n",
    "    def __init__(self, _id, first_name, last_name, age):\n",
    "        self.id = _id\n",
    "        self.first_name = first_name\n",
    "        self.last_name = last_name\n",
    "        self.full_name = self.first_name + \" \" + self.last_name\n",
    "        self.age = age\n",
    "        self.classes = []\n",
    "    \n",
    "    def enrol(self, class_name):\n",
    "        print(self.full_name)\n",
    "        self.classes.append(class_name)\n",
    "\n",
    "new_student1 = Student(1, 'Jack', 'Ma', 25)\n",
    "new_student2 = Student(1, 'John', 'Doe', 25)"
   ]
  },
  {
   "cell_type": "markdown",
   "metadata": {
    "slideshow": {
     "slide_type": "fragment"
    }
   },
   "source": [
    "- How to call the instance method"
   ]
  },
  {
   "cell_type": "code",
   "execution_count": 46,
   "metadata": {
    "slideshow": {
     "slide_type": "-"
    }
   },
   "outputs": [
    {
     "name": "stdout",
     "output_type": "stream",
     "text": [
      "Before :  []\n",
      "Jack Ma\n",
      "After :  ['Physics']\n"
     ]
    }
   ],
   "source": [
    "print('Before : ', new_student1.classes)\n",
    "new_student1.enrol('Physics')\n",
    "print('After : ', new_student1.classes)"
   ]
  },
  {
   "cell_type": "markdown",
   "metadata": {
    "slideshow": {
     "slide_type": "fragment"
    }
   },
   "source": [
    "- How to call the instance method using the class name"
   ]
  },
  {
   "cell_type": "code",
   "execution_count": 48,
   "metadata": {
    "slideshow": {
     "slide_type": "-"
    }
   },
   "outputs": [
    {
     "name": "stdout",
     "output_type": "stream",
     "text": [
      "Jack Ma\n",
      "After :  ['Physics', 'Math', 'Math']\n",
      "\n"
     ]
    }
   ],
   "source": [
    "Student.enrol(new_student1, 'Math')\n",
    "print('After : ', new_student1.classes)\n",
    "print()"
   ]
  },
  {
   "cell_type": "code",
   "execution_count": 13,
   "metadata": {
    "hide_input": true,
    "slideshow": {
     "slide_type": "subslide"
    }
   },
   "outputs": [
    {
     "data": {
      "text/html": [
       "<iframe src=\"https://onedrive.live.com/embed?cid=19997B1A4B5DBE8D&amp;resid=19997B1A4B5DBE8D%216561&amp;authkey=AHjwwlxYzPceLP8&amp;em=2&amp;wdAr=1.7777777777777777\" width=\"962px\" height=\"565px\" frameborder=\"0\">This is an embedded <a target=\"_blank\" href=\"https://office.com\">Microsoft Office</a> presentation, powered by <a target=\"_blank\" href=\"https://office.com/webapps\">Office</a>.</iframe>\n"
      ],
      "text/plain": [
       "<IPython.core.display.HTML object>"
      ]
     },
     "metadata": {},
     "output_type": "display_data"
    }
   ],
   "source": [
    "%%HTML\n",
    "<iframe src=\"https://onedrive.live.com/embed?cid=19997B1A4B5DBE8D&amp;resid=19997B1A4B5DBE8D%216561&amp;authkey=AHjwwlxYzPceLP8&amp;em=2&amp;wdAr=1.7777777777777777\" width=\"962px\" height=\"565px\" frameborder=\"0\">This is an embedded <a target=\"_blank\" href=\"https://office.com\">Microsoft Office</a> presentation, powered by <a target=\"_blank\" href=\"https://office.com/webapps\">Office</a>.</iframe>"
   ]
  },
  {
   "cell_type": "markdown",
   "metadata": {
    "slideshow": {
     "slide_type": "skip"
    }
   },
   "source": [
    "### Challenges"
   ]
  },
  {
   "cell_type": "code",
   "execution_count": null,
   "metadata": {
    "slideshow": {
     "slide_type": "skip"
    }
   },
   "outputs": [],
   "source": []
  },
  {
   "cell_type": "markdown",
   "metadata": {
    "slideshow": {
     "slide_type": "skip"
    }
   },
   "source": [
    "## Class Attributes and Class Methods"
   ]
  },
  {
   "cell_type": "code",
   "execution_count": 14,
   "metadata": {
    "hide_input": true,
    "slideshow": {
     "slide_type": "slide"
    }
   },
   "outputs": [
    {
     "data": {
      "text/html": [
       "<iframe src=\"https://onedrive.live.com/embed?cid=19997B1A4B5DBE8D&amp;resid=19997B1A4B5DBE8D%216560&amp;authkey=ALEmZo2iCvoFbSI&amp;em=2&amp;wdAr=1.7777777777777777\" width=\"962px\" height=\"565px\" frameborder=\"0\">This is an embedded <a target=\"_blank\" href=\"https://office.com\">Microsoft Office</a> presentation, powered by <a target=\"_blank\" href=\"https://office.com/webapps\">Office</a>.</iframe>\n"
      ],
      "text/plain": [
       "<IPython.core.display.HTML object>"
      ]
     },
     "metadata": {},
     "output_type": "display_data"
    }
   ],
   "source": [
    "%%HTML\n",
    "<iframe src=\"https://onedrive.live.com/embed?cid=19997B1A4B5DBE8D&amp;resid=19997B1A4B5DBE8D%216560&amp;authkey=ALEmZo2iCvoFbSI&amp;em=2&amp;wdAr=1.7777777777777777\" width=\"962px\" height=\"565px\" frameborder=\"0\">This is an embedded <a target=\"_blank\" href=\"https://office.com\">Microsoft Office</a> presentation, powered by <a target=\"_blank\" href=\"https://office.com/webapps\">Office</a>.</iframe>"
   ]
  },
  {
   "cell_type": "code",
   "execution_count": 15,
   "metadata": {
    "slideshow": {
     "slide_type": "skip"
    }
   },
   "outputs": [],
   "source": [
    "# Class Attributes and Class Methods\n",
    "\n",
    "from datetime import datetime\n",
    "\n",
    "class Student:\n",
    "    \n",
    "    num_undergraduates = 0\n",
    "    num_postgraduates = 0  \n",
    "    \n",
    "    undergraduates_age_range = range(19, 24)\n",
    "    postgraduates_age_range = range(24, 30)\n",
    "    \n",
    "    def __init__(self, student_id, first_name, last_name, age):\n",
    "        self.id = student_id\n",
    "        self.first_name = first_name\n",
    "        self.last_name = last_name\n",
    "        self.full_name = first_name + \" \" + last_name\n",
    "        self.age = age\n",
    "        self.classes = []\n",
    "        \n",
    "        if self.age in Student.undergraduates_age_range:\n",
    "#             self.num_undergraduates += 1\n",
    "            Student.num_undergraduates += 1\n",
    "        \n",
    "        elif self.age in Student.postgraduates_age_range:\n",
    "#             self.num_postgraduates += 1\n",
    "            Student.num_postgraduates += 1\n",
    "        else:\n",
    "            raise Exception('Invalid Age !!')\n",
    "    \n",
    "    def enrol(self, class_name):\n",
    "        self.classes.append(class_name)\n",
    "    \n",
    "    @classmethod\n",
    "    def get_undergraduates_percentage(cls):\n",
    "        \n",
    "        num_students = cls.num_undergraduates + cls.num_postgraduates\n",
    "        per = cls.num_postgraduates / num_students\n",
    "        \n",
    "        return per\n",
    "    \n",
    "    @classmethod\n",
    "    def create_student_from_birthday(cls, student_id, first_name, last_name, birthday):\n",
    "        # Class method is used here as an alternative constructor\n",
    "        age = round((datetime.now() - birthday).days / 365)\n",
    "        return cls(student_id, first_name, last_name, age)\n",
    "    \n",
    "# student1 = Student(1, 'Jack', 'Ma', 23)  # Undergraduate\n",
    "# student2 = Student(19, 'John', 'Doe', 27) # Graduate\n",
    "# print(Student.num_undergraduates)\n",
    "# print(Student.num_postgraduates)\n",
    "\n",
    "# undergraduates_percentage = Student.get_undergraduates_percentage()\n",
    "# print(undergraduates_percentage)\n",
    "\n",
    "# student = Student.create_student_from_birthday(1, 'Jack', 'Ma', datetime(1992, 5,30))\n",
    "# print(type(student))\n",
    "# print_student(student)"
   ]
  },
  {
   "cell_type": "markdown",
   "metadata": {
    "slideshow": {
     "slide_type": "subslide"
    }
   },
   "source": [
    "- How to create a class attribute and how to name it"
   ]
  },
  {
   "cell_type": "code",
   "execution_count": 60,
   "metadata": {},
   "outputs": [
    {
     "name": "stdout",
     "output_type": "stream",
     "text": [
      "1\n"
     ]
    }
   ],
   "source": [
    "class Student:\n",
    "    \n",
    "    num_undergraduates = 0\n",
    "    num_postgraduates = 0 \n",
    "    \n",
    "    undergraduates_age_range = range(19, 24)\n",
    "    postgraduates_age_range = range(24, 30)\n",
    "    \n",
    "    def __init__(self, _id, first_name, last_name, age):\n",
    "        self.id = _id\n",
    "        self.first_name = first_name\n",
    "        self.last_name = last_name\n",
    "        self.full_name = self.first_name + \" \" + self.last_name\n",
    "        self.age = age\n",
    "        \n",
    "        if self.age in Student.undergraduates_age_range:\n",
    "#             Student.num_undergraduates += 1\n",
    "            self.num_undergraduates += 1\n",
    "        \n",
    "        elif self.age in Student.postgraduates_age_range:\n",
    "#             Student.num_postgraduates += 1\n",
    "            self.num_postgraduates += 1\n",
    "        \n",
    "        else:\n",
    "            raise Exception('Invalid Age')\n",
    "        \n",
    "        \n",
    "        \n",
    "        self.classes = []\n",
    "    \n",
    "    def enrol(self, class_name):\n",
    "        print(self.full_name)\n",
    "        self.classes.append(class_name)\n",
    "    \n",
    "# print(Student.num_undergraduates)\n",
    "# print(Student.num_postgraduates)\n",
    "# student1 = Student(1, 'Jack', 'Ma', 23)  # Undergraduate\n",
    "# student2 = Student(19, 'John', 'Doe', 27) # Graduate\n",
    "# print(Student.num_undergraduates)\n",
    "# print(Student.num_postgraduates)\n",
    "student1 = Student(1, 'Jack', 'Ma', 23)\n",
    "print(student1.num_undergraduates)"
   ]
  },
  {
   "cell_type": "markdown",
   "metadata": {
    "slideshow": {
     "slide_type": "fragment"
    }
   },
   "source": [
    "- How to use a class attribute within __init__ / instance method"
   ]
  },
  {
   "cell_type": "code",
   "execution_count": null,
   "metadata": {},
   "outputs": [],
   "source": []
  },
  {
   "cell_type": "markdown",
   "metadata": {
    "slideshow": {
     "slide_type": "subslide"
    }
   },
   "source": [
    "- How to define a class method and how to name it"
   ]
  },
  {
   "cell_type": "code",
   "execution_count": 63,
   "metadata": {},
   "outputs": [],
   "source": [
    "from datetime import datetime\n",
    "\n",
    "class Student:\n",
    "    \n",
    "    num_undergraduates = 0\n",
    "    num_postgraduates = 0 \n",
    "    \n",
    "    undergraduates_age_range = range(19, 24)\n",
    "    postgraduates_age_range = range(24, 30)\n",
    "    \n",
    "    def __init__(self, _id, first_name, last_name, age):\n",
    "        self.id = _id\n",
    "        self.first_name = first_name\n",
    "        self.last_name = last_name\n",
    "        self.full_name = self.first_name + \" \" + self.last_name\n",
    "        self.age = age\n",
    "        \n",
    "        if self.age in Student.undergraduates_age_range:\n",
    "            Student.num_undergraduates += 1\n",
    "        \n",
    "        elif self.age in Student.postgraduates_age_range:\n",
    "            Student.num_postgraduates += 1\n",
    "            \n",
    "        else:\n",
    "            raise Exception('Invalid Age')\n",
    "        \n",
    "        self.classes = []\n",
    "    \n",
    "    def enrol(self, class_name):\n",
    "        print(self.full_name)\n",
    "        self.classes.append(class_name)\n",
    "    \n",
    "    @classmethod\n",
    "    def get_undergraduates_percentage(cls):\n",
    "        num_students = cls.num_undergraduates + cls.num_postgraduates\n",
    "        \n",
    "        return cls.num_undergraduates / num_students\n",
    "    \n",
    "    @classmethod\n",
    "    def create_student_from_birthday(cls, student_id, first_name, last_name, \n",
    "                                     birthday):\n",
    "        # Class method is used here as an alternative constructor\n",
    "        age = round((datetime.now() - birthday).days / 365)\n",
    "        return cls(student_id, first_name, last_name, age)"
   ]
  },
  {
   "cell_type": "markdown",
   "metadata": {
    "slideshow": {
     "slide_type": "fragment"
    }
   },
   "source": [
    "- How to call a class method"
   ]
  },
  {
   "cell_type": "code",
   "execution_count": 62,
   "metadata": {},
   "outputs": [
    {
     "data": {
      "text/plain": [
       "0.5"
      ]
     },
     "execution_count": 62,
     "metadata": {},
     "output_type": "execute_result"
    }
   ],
   "source": [
    "student1 = Student(1, 'Jack', 'Ma', 23)  # Undergraduate\n",
    "student2 = Student(19, 'John', 'Doe', 27) # Graduate\n",
    "\n",
    "Student.get_undergraduates_percentage()"
   ]
  },
  {
   "cell_type": "markdown",
   "metadata": {
    "slideshow": {
     "slide_type": "fragment"
    }
   },
   "source": [
    "- How to use a class method as an alternative constructor"
   ]
  },
  {
   "cell_type": "code",
   "execution_count": 65,
   "metadata": {},
   "outputs": [
    {
     "name": "stdout",
     "output_type": "stream",
     "text": [
      "<class '__main__.Student'>\n",
      "Jack Ma\n",
      "\n"
     ]
    }
   ],
   "source": [
    "student = Student.create_student_from_birthday(1, 'Jack', 'Ma', datetime(1992, 5,30))\n",
    "print(type(student))\n",
    "print(student.full_name)\n",
    "print()"
   ]
  },
  {
   "cell_type": "code",
   "execution_count": 16,
   "metadata": {
    "hide_input": true,
    "slideshow": {
     "slide_type": "subslide"
    }
   },
   "outputs": [
    {
     "data": {
      "text/html": [
       "<iframe src=\"https://onedrive.live.com/embed?cid=19997B1A4B5DBE8D&amp;resid=19997B1A4B5DBE8D%216559&amp;authkey=AD9aKgWYAH-Vc_M&amp;em=2&amp;wdAr=1.7777777777777777\" width=\"962px\" height=\"565px\" frameborder=\"0\">This is an embedded <a target=\"_blank\" href=\"https://office.com\">Microsoft Office</a> presentation, powered by <a target=\"_blank\" href=\"https://office.com/webapps\">Office</a>.</iframe>\n"
      ],
      "text/plain": [
       "<IPython.core.display.HTML object>"
      ]
     },
     "metadata": {},
     "output_type": "display_data"
    }
   ],
   "source": [
    "%%HTML\n",
    "<iframe src=\"https://onedrive.live.com/embed?cid=19997B1A4B5DBE8D&amp;resid=19997B1A4B5DBE8D%216559&amp;authkey=AD9aKgWYAH-Vc_M&amp;em=2&amp;wdAr=1.7777777777777777\" width=\"962px\" height=\"565px\" frameborder=\"0\">This is an embedded <a target=\"_blank\" href=\"https://office.com\">Microsoft Office</a> presentation, powered by <a target=\"_blank\" href=\"https://office.com/webapps\">Office</a>.</iframe>"
   ]
  },
  {
   "cell_type": "markdown",
   "metadata": {
    "slideshow": {
     "slide_type": "skip"
    }
   },
   "source": [
    "### Challenges"
   ]
  },
  {
   "cell_type": "markdown",
   "metadata": {
    "slideshow": {
     "slide_type": "skip"
    }
   },
   "source": [
    "## Static Methods"
   ]
  },
  {
   "cell_type": "code",
   "execution_count": 17,
   "metadata": {
    "hide_input": true,
    "slideshow": {
     "slide_type": "slide"
    }
   },
   "outputs": [
    {
     "data": {
      "text/html": [
       "<iframe src=\"https://onedrive.live.com/embed?cid=19997B1A4B5DBE8D&amp;resid=19997B1A4B5DBE8D%216557&amp;authkey=AKNzn57dHvieaAI&amp;em=2&amp;wdAr=1.7777777777777777\" width=\"962px\" height=\"565px\" frameborder=\"0\">This is an embedded <a target=\"_blank\" href=\"https://office.com\">Microsoft Office</a> presentation, powered by <a target=\"_blank\" href=\"https://office.com/webapps\">Office</a>.</iframe>\n"
      ],
      "text/plain": [
       "<IPython.core.display.HTML object>"
      ]
     },
     "metadata": {},
     "output_type": "display_data"
    }
   ],
   "source": [
    "%%HTML\n",
    "<iframe src=\"https://onedrive.live.com/embed?cid=19997B1A4B5DBE8D&amp;resid=19997B1A4B5DBE8D%216557&amp;authkey=AKNzn57dHvieaAI&amp;em=2&amp;wdAr=1.7777777777777777\" width=\"962px\" height=\"565px\" frameborder=\"0\">This is an embedded <a target=\"_blank\" href=\"https://office.com\">Microsoft Office</a> presentation, powered by <a target=\"_blank\" href=\"https://office.com/webapps\">Office</a>.</iframe>"
   ]
  },
  {
   "cell_type": "code",
   "execution_count": 18,
   "metadata": {
    "slideshow": {
     "slide_type": "skip"
    }
   },
   "outputs": [],
   "source": [
    "class Student:\n",
    "    \n",
    "    num_undergraduates = 0\n",
    "    num_postgraduates = 0  \n",
    "    \n",
    "    undergraduates_age_range = range(19, 24)\n",
    "    postgraduates_age_range = range(24, 30)\n",
    "    \n",
    "    def __init__(self, student_id, first_name, last_name, age):\n",
    "        self.id = student_id\n",
    "        self.first_name = first_name\n",
    "        self.last_name = last_name\n",
    "        self.full_name = first_name + \" \" + last_name\n",
    "        self.age = age\n",
    "        self.classes = []\n",
    "        \n",
    "        if self.age in Student.undergraduates_age_range:\n",
    "#             self.num_undergraduates += 1\n",
    "            Student.num_undergraduates += 1\n",
    "        \n",
    "        elif self.age in Student.postgraduates_age_range:\n",
    "#             self.num_postgraduates += 1\n",
    "            Student.num_postgraduates += 1\n",
    "        else:\n",
    "            raise Exception('Invalid Age !!')\n",
    "    \n",
    "    def enrol(self, class_name):\n",
    "        self.classes.append(class_name)\n",
    "    \n",
    "    @classmethod\n",
    "    def get_undergraduates_percentage(cls):\n",
    "        num_students = cls.num_undergraduates + cls.num_postgraduates\n",
    "        per = cls.num_postgraduates / num_students\n",
    "        \n",
    "        return per\n",
    "    \n",
    "    @classmethod\n",
    "    def create_student_from_birthday(cls, student_id, first_name, last_name, birthday):\n",
    "        # Class method is used here as an alternative constructor\n",
    "        age = round((datetime.now() - birthday).days / 365)\n",
    "        return cls(student_id, first_name, last_name, age)\n",
    "    \n",
    "    @staticmethod\n",
    "    def is_passed(CGPA):\n",
    "        if CGPA >= 50:\n",
    "            return True\n",
    "        \n",
    "        elif CGPA < 50:\n",
    "            return False\n",
    "        \n",
    "        else:\n",
    "            raise Exception('Invalid CGPA')\n",
    "\n",
    "# cgpa = 50\n",
    "# if Student.is_passed(cgpa):\n",
    "#     print('Passed')\n",
    "# else:\n",
    "#     print('Failed')"
   ]
  },
  {
   "cell_type": "markdown",
   "metadata": {
    "slideshow": {
     "slide_type": "notes"
    }
   },
   "source": [
    "Usually we use static methods\n",
    "- To create the methods that are related to the class but they do not need access neither to the object nor to the class\n",
    "\n",
    "- To combine together a group of utilities functions about one idea or concept"
   ]
  },
  {
   "cell_type": "markdown",
   "metadata": {
    "slideshow": {
     "slide_type": "subslide"
    }
   },
   "source": [
    "- How to create a static method and how to name it"
   ]
  },
  {
   "cell_type": "code",
   "execution_count": 66,
   "metadata": {
    "slideshow": {
     "slide_type": "-"
    }
   },
   "outputs": [],
   "source": [
    "from datetime import datetime\n",
    "\n",
    "class Student:\n",
    "    \n",
    "    num_undergraduates = 0\n",
    "    num_postgraduates = 0 \n",
    "    \n",
    "    undergraduates_age_range = range(19, 24)\n",
    "    postgraduates_age_range = range(24, 30)\n",
    "    \n",
    "    def __init__(self, _id, first_name, last_name, age):\n",
    "        self.id = _id\n",
    "        self.first_name = first_name\n",
    "        self.last_name = last_name\n",
    "        self.full_name = self.first_name + \" \" + self.last_name\n",
    "        self.age = age\n",
    "        \n",
    "        if self.age in Student.undergraduates_age_range:\n",
    "            Student.num_undergraduates += 1\n",
    "        \n",
    "        elif self.age in Student.postgraduates_age_range:\n",
    "            Student.num_postgraduates += 1\n",
    "            \n",
    "        else:\n",
    "            raise Exception('Invalid Age')\n",
    "        \n",
    "        self.classes = []\n",
    "    \n",
    "    def enrol(self, class_name):\n",
    "        print(self.full_name)\n",
    "        self.classes.append(class_name)\n",
    "    \n",
    "    @classmethod\n",
    "    def get_undergraduates_percentage(cls):\n",
    "        num_students = cls.num_undergraduates + cls.num_postgraduates\n",
    "        \n",
    "        return cls.num_undergraduates / num_students\n",
    "    \n",
    "    @classmethod\n",
    "    def create_student_from_birthday(cls, student_id, first_name, last_name, \n",
    "                                     birthday):\n",
    "        # Class method is used here as an alternative constructor\n",
    "        age = round((datetime.now() - birthday).days / 365)\n",
    "        return cls(student_id, first_name, last_name, age)\n",
    "    \n",
    "    @staticmethod\n",
    "    def is_passed(cgpa):\n",
    "        \n",
    "        if cgpa > 50:\n",
    "            return True\n",
    "        \n",
    "        else:\n",
    "            return False"
   ]
  },
  {
   "cell_type": "markdown",
   "metadata": {
    "slideshow": {
     "slide_type": "fragment"
    }
   },
   "source": [
    "- How to call a static method"
   ]
  },
  {
   "cell_type": "code",
   "execution_count": 69,
   "metadata": {
    "slideshow": {
     "slide_type": "-"
    }
   },
   "outputs": [
    {
     "name": "stdout",
     "output_type": "stream",
     "text": [
      "Passed\n",
      "\n"
     ]
    }
   ],
   "source": [
    "cgpa = 55\n",
    "if Student.is_passed(cgpa):\n",
    "    print('Passed')\n",
    "else:\n",
    "    print('Failed')\n",
    "\n",
    "print()\n"
   ]
  },
  {
   "cell_type": "code",
   "execution_count": 19,
   "metadata": {
    "hide_input": true,
    "slideshow": {
     "slide_type": "subslide"
    }
   },
   "outputs": [
    {
     "data": {
      "text/html": [
       "<iframe src=\"https://onedrive.live.com/embed?cid=19997B1A4B5DBE8D&amp;resid=19997B1A4B5DBE8D%216558&amp;authkey=AOcAmH1m0HLhZKc&amp;em=2&amp;wdAr=1.7777777777777777\" width=\"962px\" height=\"565px\" frameborder=\"0\">This is an embedded <a target=\"_blank\" href=\"https://office.com\">Microsoft Office</a> presentation, powered by <a target=\"_blank\" href=\"https://office.com/webapps\">Office</a>.</iframe>\n"
      ],
      "text/plain": [
       "<IPython.core.display.HTML object>"
      ]
     },
     "metadata": {},
     "output_type": "display_data"
    }
   ],
   "source": [
    "%%HTML\n",
    "<iframe src=\"https://onedrive.live.com/embed?cid=19997B1A4B5DBE8D&amp;resid=19997B1A4B5DBE8D%216558&amp;authkey=AOcAmH1m0HLhZKc&amp;em=2&amp;wdAr=1.7777777777777777\" width=\"962px\" height=\"565px\" frameborder=\"0\">This is an embedded <a target=\"_blank\" href=\"https://office.com\">Microsoft Office</a> presentation, powered by <a target=\"_blank\" href=\"https://office.com/webapps\">Office</a>.</iframe>"
   ]
  },
  {
   "cell_type": "markdown",
   "metadata": {
    "slideshow": {
     "slide_type": "skip"
    }
   },
   "source": [
    "### Challenges"
   ]
  },
  {
   "cell_type": "markdown",
   "metadata": {
    "slideshow": {
     "slide_type": "skip"
    }
   },
   "source": [
    "## Property in Python OOP"
   ]
  },
  {
   "cell_type": "code",
   "execution_count": 20,
   "metadata": {
    "hide_input": true,
    "scrolled": false,
    "slideshow": {
     "slide_type": "slide"
    }
   },
   "outputs": [
    {
     "data": {
      "text/html": [
       "<iframe src=\"https://onedrive.live.com/embed?cid=19997B1A4B5DBE8D&amp;resid=19997B1A4B5DBE8D%216556&amp;authkey=ABmRfWRWUJr0oBs&amp;em=2&amp;wdAr=1.7777777777777777\" width=\"962px\" height=\"565px\" frameborder=\"0\">This is an embedded <a target=\"_blank\" href=\"https://office.com\">Microsoft Office</a> presentation, powered by <a target=\"_blank\" href=\"https://office.com/webapps\">Office</a>.</iframe>\n"
      ],
      "text/plain": [
       "<IPython.core.display.HTML object>"
      ]
     },
     "metadata": {},
     "output_type": "display_data"
    }
   ],
   "source": [
    "%%HTML\n",
    "<iframe src=\"https://onedrive.live.com/embed?cid=19997B1A4B5DBE8D&amp;resid=19997B1A4B5DBE8D%216556&amp;authkey=ABmRfWRWUJr0oBs&amp;em=2&amp;wdAr=1.7777777777777777\" width=\"962px\" height=\"565px\" frameborder=\"0\">This is an embedded <a target=\"_blank\" href=\"https://office.com\">Microsoft Office</a> presentation, powered by <a target=\"_blank\" href=\"https://office.com/webapps\">Office</a>.</iframe>"
   ]
  },
  {
   "cell_type": "code",
   "execution_count": 21,
   "metadata": {
    "slideshow": {
     "slide_type": "skip"
    }
   },
   "outputs": [],
   "source": [
    "# How to Create a Property : Syntax 1\n",
    "\n",
    "class Student:\n",
    "    \n",
    "    num_undergraduates = 0\n",
    "    num_postgraduates = 0  \n",
    "    \n",
    "    undergraduates_age_range = range(19, 24)\n",
    "    postgraduates_age_range = range(24, 30)\n",
    "    \n",
    "    def __init__(self, student_id, first_name, last_name, age, first_name_first=True):\n",
    "        self.id = student_id\n",
    "        self.first_name = first_name\n",
    "        self.last_name = last_name\n",
    "        self.first_name_first = first_name_first\n",
    "    \n",
    "        self.age = age\n",
    "        self.classes = []\n",
    "        \n",
    "        if self.age in Student.undergraduates_age_range:\n",
    "#             self.num_undergraduates += 1\n",
    "            Student.num_undergraduates += 1\n",
    "        \n",
    "        elif self.age in Student.postgraduates_age_range:\n",
    "#             self.num_postgraduates += 1\n",
    "            Student.num_postgraduates += 1\n",
    "        else:\n",
    "            raise Exception('Invalid Age !!')\n",
    "    \n",
    "    def enrol(self, class_name):\n",
    "        self.classes.append(class_name)\n",
    "    \n",
    "    @classmethod\n",
    "    def get_undergraduates_percentage(cls):\n",
    "        num_students = cls.num_undergraduates + cls.num_postgraduates\n",
    "        per = cls.num_postgraduates / num_students\n",
    "        \n",
    "        return per\n",
    "    \n",
    "    @classmethod\n",
    "    def create_student_from_birthday(cls, student_id, first_name, last_name, birthday):\n",
    "        # Class method is used here as an alternative constructor\n",
    "        age = round((datetime.now() - birthday).days / 365)\n",
    "        return cls(student_id, first_name, last_name, age)\n",
    "    \n",
    "    @staticmethod\n",
    "    def is_passed(CGPA):\n",
    "        if CGPA >= 50:\n",
    "            return True\n",
    "        \n",
    "        elif CGPA < 50:\n",
    "            return False\n",
    "        \n",
    "        else:\n",
    "            raise Exception('Invalid CGPA')\n",
    "    \n",
    "    def get_full_name(self):\n",
    "        if self.first_name_first:\n",
    "            return '{} {}'.format(self.first_name, self.last_name)\n",
    "        else:\n",
    "            return '{} {}'.format(self.last_name, self.first_name)\n",
    "    \n",
    "    def set_full_name(self, full_name):\n",
    "        if self.first_name_first:\n",
    "            self.first_name, self.last_name = full_name.split()\n",
    "        else:\n",
    "            self.last_name, self.first_name = full_name.split()\n",
    "            \n",
    "    def delete_full_name(self):\n",
    "        print('Full name has been deleted !!')\n",
    "        self.first_name = None\n",
    "        self.last_name = None\n",
    "    \n",
    "    full_name = property(get_full_name, set_full_name, delete_full_name)\n",
    "\n",
    "student = Student(1, 'Jac', 'John', 25)\n",
    "print(student.full_name)\n",
    "print(student.first_name)\n",
    "print(student.last_name)\n",
    "\n",
    "print()\n",
    "\n",
    "student.full_name = 'Jack John'\n",
    "print(student.full_name)\n",
    "print(student.first_name)\n",
    "print(student.last_name)\n",
    "\n",
    "print(student.full_name)\n",
    "\n",
    "Use a property getter\n",
    "student = Student(1, 'Jack', 'John', 25, first_name_first=False)\n",
    "print(student.full_name)\n",
    "\n",
    "student = Student(1, 'Jack', 'John', 25, first_name_first=True)\n",
    "print(student.full_name)\n",
    "\n",
    "Use a property setter\n",
    "student = Student(1, 'Jac', 'John', 25, first_name_first=True)\n",
    "\n",
    "print('Before ...')\n",
    "print(student.full_name)\n",
    "print(student.first_name)\n",
    "print(student.last_name)\n",
    "\n",
    "\n",
    "print('\\nAfter ...')\n",
    "student.full_name = 'Jack John'\n",
    "print(student.full_name)\n",
    "print(student.first_name)\n",
    "print(student.last_name)\n",
    "\n",
    "\n",
    "Use a property deleter\n",
    "student = Student(1, 'Jac', 'John', 25)\n",
    "\n",
    "print('Before ...')\n",
    "print(student.full_name)\n",
    "print(student.first_name)\n",
    "print(student.last_name)\n",
    "\n",
    "\n",
    "print('\\nAfter ...')\n",
    "del student.full_name\n",
    "print(student.full_name)\n",
    "print(student.first_name)\n",
    "print(student.last_name)\n"
   ]
  },
  {
   "cell_type": "code",
   "execution_count": 22,
   "metadata": {
    "slideshow": {
     "slide_type": "skip"
    }
   },
   "outputs": [],
   "source": [
    "# How to Create a Property : Syntax 2\n",
    "# COMPLETE HERE"
   ]
  },
  {
   "cell_type": "markdown",
   "metadata": {
    "slideshow": {
     "slide_type": "subslide"
    }
   },
   "source": [
    "- What will happen if we change the full name only"
   ]
  },
  {
   "cell_type": "code",
   "execution_count": 75,
   "metadata": {},
   "outputs": [
    {
     "name": "stdout",
     "output_type": "stream",
     "text": [
      "Jac John\n",
      "Jac\n",
      "John\n",
      "\n",
      "Jack John\n",
      "Jac\n",
      "John\n"
     ]
    }
   ],
   "source": [
    "from datetime import datetime\n",
    "\n",
    "class Student:\n",
    "    \n",
    "    num_undergraduates = 0\n",
    "    num_postgraduates = 0 \n",
    "    \n",
    "    undergraduates_age_range = range(19, 24)\n",
    "    postgraduates_age_range = range(24, 30)\n",
    "    \n",
    "    def __init__(self, _id, first_name, last_name, age):\n",
    "        self.id = _id\n",
    "        self.first_name = first_name\n",
    "        self.last_name = last_name\n",
    "        self.full_name = self.first_name + \" \" + self.last_name\n",
    "        self.age = age\n",
    "        \n",
    "        if self.age in Student.undergraduates_age_range:\n",
    "            Student.num_undergraduates += 1\n",
    "        \n",
    "        elif self.age in Student.postgraduates_age_range:\n",
    "            Student.num_postgraduates += 1\n",
    "            \n",
    "        else:\n",
    "            raise Exception('Invalid Age')\n",
    "        \n",
    "        self.classes = []\n",
    "    \n",
    "    def enrol(self, class_name):\n",
    "        print(self.full_name)\n",
    "        self.classes.append(class_name)\n",
    "    \n",
    "    @classmethod\n",
    "    def get_undergraduates_percentage(cls):\n",
    "        num_students = cls.num_undergraduates + cls.num_postgraduates\n",
    "        \n",
    "        return cls.num_undergraduates / num_students\n",
    "    \n",
    "    @classmethod\n",
    "    def create_student_from_birthday(cls, student_id, first_name, last_name, \n",
    "                                     birthday):\n",
    "        # Class method is used here as an alternative constructor\n",
    "        age = round((datetime.now() - birthday).days / 365)\n",
    "        return cls(student_id, first_name, last_name, age)\n",
    "    \n",
    "    @staticmethod\n",
    "    def is_passed(cgpa):\n",
    "        \n",
    "        if cgpa > 50:\n",
    "            return True\n",
    "        \n",
    "        else:\n",
    "            return False\n",
    "        \n",
    "student = Student(1, 'Jac', 'John', 25)\n",
    "print(student.full_name)\n",
    "print(student.first_name)\n",
    "print(student.last_name)\n",
    "\n",
    "print()\n",
    "\n",
    "student.full_name = 'Jack John'\n",
    "print(student.full_name)\n",
    "print(student.first_name)\n",
    "print(student.last_name)"
   ]
  },
  {
   "cell_type": "markdown",
   "metadata": {
    "slideshow": {
     "slide_type": "fragment"
    }
   },
   "source": [
    "- How to make the order of names in the full name adjustable"
   ]
  },
  {
   "cell_type": "code",
   "execution_count": null,
   "metadata": {},
   "outputs": [],
   "source": [
    "from datetime import datetime\n",
    "\n",
    "class Student:\n",
    "    \n",
    "    num_undergraduates = 0\n",
    "    num_postgraduates = 0 \n",
    "    \n",
    "    undergraduates_age_range = range(19, 24)\n",
    "    postgraduates_age_range = range(24, 30)\n",
    "    \n",
    "    def __init__(self, _id, first_name, last_name, age, first_name_first=True):\n",
    "        self.id = _id\n",
    "        self.first_name = first_name\n",
    "        self.last_name = last_name\n",
    "        self.first_name_first = first_name_first\n",
    "        self.age = age\n",
    "        \n",
    "        if self.age in Student.undergraduates_age_range:\n",
    "            Student.num_undergraduates += 1\n",
    "        \n",
    "        elif self.age in Student.postgraduates_age_range:\n",
    "            Student.num_postgraduates += 1\n",
    "            \n",
    "        else:\n",
    "            raise Exception('Invalid Age')\n",
    "        \n",
    "        self.classes = []\n",
    "    \n",
    "    def enrol(self, class_name):\n",
    "        print(self.full_name)\n",
    "        self.classes.append(class_name)\n",
    "    \n",
    "    @classmethod\n",
    "    def get_undergraduates_percentage(cls):\n",
    "        num_students = cls.num_undergraduates + cls.num_postgraduates\n",
    "        \n",
    "        return cls.num_undergraduates / num_students\n",
    "    \n",
    "    @classmethod\n",
    "    def create_student_from_birthday(cls, student_id, first_name, last_name, \n",
    "                                     birthday):\n",
    "        # Class method is used here as an alternative constructor\n",
    "        age = round((datetime.now() - birthday).days / 365)\n",
    "        return cls(student_id, first_name, last_name, age)\n",
    "    \n",
    "    @staticmethod\n",
    "    def is_passed(cgpa):\n",
    "        \n",
    "        if cgpa > 50:\n",
    "            return True\n",
    "        \n",
    "        else:\n",
    "            return False"
   ]
  },
  {
   "cell_type": "markdown",
   "metadata": {
    "slideshow": {
     "slide_type": "subslide"
    }
   },
   "source": [
    "- How to define a property getter"
   ]
  },
  {
   "cell_type": "code",
   "execution_count": 82,
   "metadata": {},
   "outputs": [
    {
     "name": "stdout",
     "output_type": "stream",
     "text": [
      "Jack Ma\n",
      "Jack Ma\n"
     ]
    }
   ],
   "source": [
    "from datetime import datetime\n",
    "\n",
    "class Student:\n",
    "    \n",
    "    num_undergraduates = 0\n",
    "    num_postgraduates = 0 \n",
    "    \n",
    "    undergraduates_age_range = range(19, 24)\n",
    "    postgraduates_age_range = range(24, 30)\n",
    "    \n",
    "    def __init__(self, _id, first_name, last_name, age, first_name_first=True):\n",
    "        self.id = _id\n",
    "        self.first_name = first_name\n",
    "        self.last_name = last_name\n",
    "        self.first_name_first = first_name_first\n",
    "        self.age = age\n",
    "        \n",
    "        if self.age in Student.undergraduates_age_range:\n",
    "            Student.num_undergraduates += 1\n",
    "        \n",
    "        elif self.age in Student.postgraduates_age_range:\n",
    "            Student.num_postgraduates += 1\n",
    "            \n",
    "        else:\n",
    "            raise Exception('Invalid Age')\n",
    "        \n",
    "        self.classes = []\n",
    "    \n",
    "    def get_full_name(self):\n",
    "        if self.first_name_first:\n",
    "            return self.first_name + ' ' + self.last_name\n",
    "        else:\n",
    "            return self.last_name + ' ' + self.first_name\n",
    "    \n",
    "    full_name = property(get_full_name, None, None)\n",
    "\n",
    "student1 = Student(1, 'Jack', 'Ma', 25, first_name_first=True)\n",
    "print(student1.get_full_name())\n",
    "\n",
    "print(student1.full_name)"
   ]
  },
  {
   "cell_type": "markdown",
   "metadata": {
    "slideshow": {
     "slide_type": "fragment"
    }
   },
   "source": [
    "- How to use a property getter"
   ]
  },
  {
   "cell_type": "code",
   "execution_count": null,
   "metadata": {},
   "outputs": [],
   "source": []
  },
  {
   "cell_type": "markdown",
   "metadata": {
    "slideshow": {
     "slide_type": "subslide"
    }
   },
   "source": [
    "- How to define a property setter"
   ]
  },
  {
   "cell_type": "code",
   "execution_count": 83,
   "metadata": {},
   "outputs": [],
   "source": [
    "from datetime import datetime\n",
    "\n",
    "class Student:\n",
    "    \n",
    "    num_undergraduates = 0\n",
    "    num_postgraduates = 0 \n",
    "    \n",
    "    undergraduates_age_range = range(19, 24)\n",
    "    postgraduates_age_range = range(24, 30)\n",
    "    \n",
    "    def __init__(self, _id, first_name, last_name, age, first_name_first=True):\n",
    "        self.id = _id\n",
    "        self.first_name = first_name\n",
    "        self.last_name = last_name\n",
    "        self.first_name_first = first_name_first\n",
    "        self.age = age\n",
    "        \n",
    "        if self.age in Student.undergraduates_age_range:\n",
    "            Student.num_undergraduates += 1\n",
    "        \n",
    "        elif self.age in Student.postgraduates_age_range:\n",
    "            Student.num_postgraduates += 1\n",
    "            \n",
    "        else:\n",
    "            raise Exception('Invalid Age')\n",
    "        \n",
    "        self.classes = []\n",
    "    \n",
    "    def get_full_name(self):\n",
    "        if self.first_name_first:\n",
    "            return self.first_name + ' ' + self.last_name\n",
    "        else:\n",
    "            return self.last_name + ' ' + self.first_name\n",
    "    \n",
    "    def set_full_name(self, full_name):\n",
    "        if self.first_name_first:\n",
    "            self.first_name, self.last_name = full_name.split()\n",
    "        else:\n",
    "            self.last_name, self.first_name = full_name.split()\n",
    "        \n",
    "    \n",
    "    full_name = property(get_full_name, set_full_name, None)\n"
   ]
  },
  {
   "cell_type": "markdown",
   "metadata": {
    "slideshow": {
     "slide_type": "fragment"
    }
   },
   "source": [
    "- How to use a property setter"
   ]
  },
  {
   "cell_type": "code",
   "execution_count": 85,
   "metadata": {},
   "outputs": [
    {
     "name": "stdout",
     "output_type": "stream",
     "text": [
      "Before ...\n",
      "Jac\n",
      "John\n",
      "Jac John\n",
      "\n",
      "After ...\n",
      "Jack\n",
      "John\n",
      "Jack John\n",
      "\n",
      "\n"
     ]
    }
   ],
   "source": [
    "student = Student(1, 'Jac', 'John', 25, first_name_first=True)\n",
    "\n",
    "print('Before ...')\n",
    "print(student.full_name)\n",
    "print(student.first_name)\n",
    "print(student.last_name)\n",
    "\n",
    "\n",
    "print('\\nAfter ...')\n",
    "student.full_name = 'Jack John'\n",
    "print(student.full_name)\n",
    "print(student.first_name)\n",
    "print(student.last_name)\n",
    "\n",
    "print()\n",
    "print()\n",
    "\n",
    "\n",
    "\n"
   ]
  },
  {
   "cell_type": "markdown",
   "metadata": {
    "slideshow": {
     "slide_type": "subslide"
    }
   },
   "source": [
    "- How to define a property deleter"
   ]
  },
  {
   "cell_type": "code",
   "execution_count": 86,
   "metadata": {},
   "outputs": [],
   "source": [
    "from datetime import datetime\n",
    "\n",
    "class Student:\n",
    "    \n",
    "    num_undergraduates = 0\n",
    "    num_postgraduates = 0 \n",
    "    \n",
    "    undergraduates_age_range = range(19, 24)\n",
    "    postgraduates_age_range = range(24, 30)\n",
    "    \n",
    "    def __init__(self, _id, first_name, last_name, age, first_name_first=True):\n",
    "        self.id = _id\n",
    "        self.first_name = first_name\n",
    "        self.last_name = last_name\n",
    "        self.first_name_first = first_name_first\n",
    "        self.age = age\n",
    "        \n",
    "        if self.age in Student.undergraduates_age_range:\n",
    "            Student.num_undergraduates += 1\n",
    "        \n",
    "        elif self.age in Student.postgraduates_age_range:\n",
    "            Student.num_postgraduates += 1\n",
    "            \n",
    "        else:\n",
    "            raise Exception('Invalid Age')\n",
    "        \n",
    "        self.classes = []\n",
    "    \n",
    "    def get_full_name(self):\n",
    "        if self.first_name_first:\n",
    "            return self.first_name + ' ' + self.last_name\n",
    "        else:\n",
    "            return self.last_name + ' ' + self.first_name\n",
    "    \n",
    "    def set_full_name(self, full_name):\n",
    "        if self.first_name_first:\n",
    "            self.first_name, self.last_name = full_name.split()\n",
    "        else:\n",
    "            self.last_name, self.first_name = full_name.split()\n",
    "        \n",
    "    \n",
    "    def delete_full_name(self):\n",
    "        print('I am deleter')\n",
    "        self.first_name = None\n",
    "        self.last_name = None\n",
    "    \n",
    "    full_name = property(get_full_name, set_full_name, delete_full_name)\n"
   ]
  },
  {
   "cell_type": "markdown",
   "metadata": {
    "slideshow": {
     "slide_type": "fragment"
    }
   },
   "source": [
    "- How to use a property deleter"
   ]
  },
  {
   "cell_type": "code",
   "execution_count": 87,
   "metadata": {},
   "outputs": [
    {
     "name": "stdout",
     "output_type": "stream",
     "text": [
      "Before ...\n",
      "Jac\n",
      "John\n",
      "Jac John\n",
      "\n",
      "After ...\n",
      "I am deleter\n",
      "None\n",
      "None\n"
     ]
    },
    {
     "ename": "TypeError",
     "evalue": "unsupported operand type(s) for +: 'NoneType' and 'str'",
     "output_type": "error",
     "traceback": [
      "\u001b[1;31m---------------------------------------------------------------------------\u001b[0m",
      "\u001b[1;31mTypeError\u001b[0m                                 Traceback (most recent call last)",
      "\u001b[1;32m<ipython-input-87-5fa07d3e15b1>\u001b[0m in \u001b[0;36m<module>\u001b[1;34m\u001b[0m\n\u001b[0;32m     10\u001b[0m \u001b[0mprint\u001b[0m\u001b[1;33m(\u001b[0m\u001b[0mstudent\u001b[0m\u001b[1;33m.\u001b[0m\u001b[0mfirst_name\u001b[0m\u001b[1;33m)\u001b[0m\u001b[1;33m\u001b[0m\u001b[1;33m\u001b[0m\u001b[0m\n\u001b[0;32m     11\u001b[0m \u001b[0mprint\u001b[0m\u001b[1;33m(\u001b[0m\u001b[0mstudent\u001b[0m\u001b[1;33m.\u001b[0m\u001b[0mlast_name\u001b[0m\u001b[1;33m)\u001b[0m\u001b[1;33m\u001b[0m\u001b[1;33m\u001b[0m\u001b[0m\n\u001b[1;32m---> 12\u001b[1;33m \u001b[0mprint\u001b[0m\u001b[1;33m(\u001b[0m\u001b[0mstudent\u001b[0m\u001b[1;33m.\u001b[0m\u001b[0mfull_name\u001b[0m\u001b[1;33m)\u001b[0m\u001b[1;33m\u001b[0m\u001b[1;33m\u001b[0m\u001b[0m\n\u001b[0m\u001b[0;32m     13\u001b[0m \u001b[0mprint\u001b[0m\u001b[1;33m(\u001b[0m\u001b[1;33m)\u001b[0m\u001b[1;33m\u001b[0m\u001b[1;33m\u001b[0m\u001b[0m\n\u001b[0;32m     14\u001b[0m \u001b[0mprint\u001b[0m\u001b[1;33m(\u001b[0m\u001b[1;33m)\u001b[0m\u001b[1;33m\u001b[0m\u001b[1;33m\u001b[0m\u001b[0m\n",
      "\u001b[1;32m<ipython-input-86-499dc596e5d3>\u001b[0m in \u001b[0;36mget_full_name\u001b[1;34m(self)\u001b[0m\n\u001b[0;32m     29\u001b[0m     \u001b[1;32mdef\u001b[0m \u001b[0mget_full_name\u001b[0m\u001b[1;33m(\u001b[0m\u001b[0mself\u001b[0m\u001b[1;33m)\u001b[0m\u001b[1;33m:\u001b[0m\u001b[1;33m\u001b[0m\u001b[1;33m\u001b[0m\u001b[0m\n\u001b[0;32m     30\u001b[0m         \u001b[1;32mif\u001b[0m \u001b[0mself\u001b[0m\u001b[1;33m.\u001b[0m\u001b[0mfirst_name_first\u001b[0m\u001b[1;33m:\u001b[0m\u001b[1;33m\u001b[0m\u001b[1;33m\u001b[0m\u001b[0m\n\u001b[1;32m---> 31\u001b[1;33m             \u001b[1;32mreturn\u001b[0m \u001b[0mself\u001b[0m\u001b[1;33m.\u001b[0m\u001b[0mfirst_name\u001b[0m \u001b[1;33m+\u001b[0m \u001b[1;34m' '\u001b[0m \u001b[1;33m+\u001b[0m \u001b[0mself\u001b[0m\u001b[1;33m.\u001b[0m\u001b[0mlast_name\u001b[0m\u001b[1;33m\u001b[0m\u001b[1;33m\u001b[0m\u001b[0m\n\u001b[0m\u001b[0;32m     32\u001b[0m         \u001b[1;32melse\u001b[0m\u001b[1;33m:\u001b[0m\u001b[1;33m\u001b[0m\u001b[1;33m\u001b[0m\u001b[0m\n\u001b[0;32m     33\u001b[0m             \u001b[1;32mreturn\u001b[0m \u001b[0mself\u001b[0m\u001b[1;33m.\u001b[0m\u001b[0mlast_name\u001b[0m \u001b[1;33m+\u001b[0m \u001b[1;34m' '\u001b[0m \u001b[1;33m+\u001b[0m \u001b[0mself\u001b[0m\u001b[1;33m.\u001b[0m\u001b[0mfirst_name\u001b[0m\u001b[1;33m\u001b[0m\u001b[1;33m\u001b[0m\u001b[0m\n",
      "\u001b[1;31mTypeError\u001b[0m: unsupported operand type(s) for +: 'NoneType' and 'str'"
     ]
    }
   ],
   "source": [
    "student = Student(1, 'Jac', 'John', 25)\n",
    "\n",
    "print('Before ...')\n",
    "print(student.full_name)\n",
    "print(student.first_name)\n",
    "print(student.last_name)\n",
    "\n",
    "\n",
    "print('\\nAfter ...')\n",
    "del student.full_name\n",
    "print(student.full_name)\n",
    "print(student.first_name)\n",
    "print(student.last_name)\n",
    "\n",
    "print()\n",
    "print()"
   ]
  },
  {
   "cell_type": "code",
   "execution_count": 23,
   "metadata": {
    "hide_input": true,
    "scrolled": false,
    "slideshow": {
     "slide_type": "subslide"
    }
   },
   "outputs": [
    {
     "data": {
      "text/html": [
       "<iframe src=\"https://onedrive.live.com/embed?cid=19997B1A4B5DBE8D&amp;resid=19997B1A4B5DBE8D%216555&amp;authkey=AAEBrBeZa8M37C8&amp;em=2&amp;wdAr=1.7777777777777777\" width=\"962px\" height=\"565px\" frameborder=\"0\">This is an embedded <a target=\"_blank\" href=\"https://office.com\">Microsoft Office</a> presentation, powered by <a target=\"_blank\" href=\"https://office.com/webapps\">Office</a>.</iframe>\n"
      ],
      "text/plain": [
       "<IPython.core.display.HTML object>"
      ]
     },
     "metadata": {},
     "output_type": "display_data"
    }
   ],
   "source": [
    "%%HTML\n",
    "<iframe src=\"https://onedrive.live.com/embed?cid=19997B1A4B5DBE8D&amp;resid=19997B1A4B5DBE8D%216555&amp;authkey=AAEBrBeZa8M37C8&amp;em=2&amp;wdAr=1.7777777777777777\" width=\"962px\" height=\"565px\" frameborder=\"0\">This is an embedded <a target=\"_blank\" href=\"https://office.com\">Microsoft Office</a> presentation, powered by <a target=\"_blank\" href=\"https://office.com/webapps\">Office</a>.</iframe>"
   ]
  },
  {
   "cell_type": "markdown",
   "metadata": {
    "slideshow": {
     "slide_type": "skip"
    }
   },
   "source": [
    "### Challenges"
   ]
  },
  {
   "cell_type": "markdown",
   "metadata": {
    "slideshow": {
     "slide_type": "skip"
    }
   },
   "source": [
    "## Abstraction and Encapsulation"
   ]
  },
  {
   "cell_type": "code",
   "execution_count": 24,
   "metadata": {
    "hide_input": true,
    "slideshow": {
     "slide_type": "slide"
    }
   },
   "outputs": [
    {
     "data": {
      "text/html": [
       "<iframe src=\"https://onedrive.live.com/embed?cid=19997B1A4B5DBE8D&amp;resid=19997B1A4B5DBE8D%216553&amp;authkey=AN8tI8fHLb1UqAo&amp;em=2&amp;wdAr=1.7777777777777777\" width=\"962px\" height=\"565px\" frameborder=\"0\">This is an embedded <a target=\"_blank\" href=\"https://office.com\">Microsoft Office</a> presentation, powered by <a target=\"_blank\" href=\"https://office.com/webapps\">Office</a>.</iframe>\n"
      ],
      "text/plain": [
       "<IPython.core.display.HTML object>"
      ]
     },
     "metadata": {},
     "output_type": "display_data"
    }
   ],
   "source": [
    "%%HTML\n",
    "<iframe src=\"https://onedrive.live.com/embed?cid=19997B1A4B5DBE8D&amp;resid=19997B1A4B5DBE8D%216553&amp;authkey=AN8tI8fHLb1UqAo&amp;em=2&amp;wdAr=1.7777777777777777\" width=\"962px\" height=\"565px\" frameborder=\"0\">This is an embedded <a target=\"_blank\" href=\"https://office.com\">Microsoft Office</a> presentation, powered by <a target=\"_blank\" href=\"https://office.com/webapps\">Office</a>.</iframe>"
   ]
  },
  {
   "cell_type": "markdown",
   "metadata": {
    "slideshow": {
     "slide_type": "skip"
    }
   },
   "source": [
    "## Copy in OOP"
   ]
  },
  {
   "cell_type": "code",
   "execution_count": 25,
   "metadata": {
    "hide_input": true,
    "scrolled": false,
    "slideshow": {
     "slide_type": "slide"
    }
   },
   "outputs": [
    {
     "data": {
      "text/html": [
       "<iframe src=\"https://onedrive.live.com/embed?cid=19997B1A4B5DBE8D&amp;resid=19997B1A4B5DBE8D%216551&amp;authkey=APp7tyFu3DDUneY&amp;em=2&amp;wdAr=1.7777777777777777\" width=\"962px\" height=\"565px\" frameborder=\"0\">This is an embedded <a target=\"_blank\" href=\"https://office.com\">Microsoft Office</a> presentation, powered by <a target=\"_blank\" href=\"https://office.com/webapps\">Office</a>.</iframe>\n"
      ],
      "text/plain": [
       "<IPython.core.display.HTML object>"
      ]
     },
     "metadata": {},
     "output_type": "display_data"
    }
   ],
   "source": [
    "%%HTML\n",
    "<iframe src=\"https://onedrive.live.com/embed?cid=19997B1A4B5DBE8D&amp;resid=19997B1A4B5DBE8D%216551&amp;authkey=APp7tyFu3DDUneY&amp;em=2&amp;wdAr=1.7777777777777777\" width=\"962px\" height=\"565px\" frameborder=\"0\">This is an embedded <a target=\"_blank\" href=\"https://office.com\">Microsoft Office</a> presentation, powered by <a target=\"_blank\" href=\"https://office.com/webapps\">Office</a>.</iframe>"
   ]
  },
  {
   "cell_type": "code",
   "execution_count": 26,
   "metadata": {
    "slideshow": {
     "slide_type": "skip"
    }
   },
   "outputs": [],
   "source": [
    "class DummyClass:\n",
    "    def __init__(self):\n",
    "        self.dummy_value = 5\n",
    "\n",
    "# Shallow copy\n",
    "\n",
    "# obj1 = DummyClass()\n",
    "# obj2 = obj1\n",
    "\n",
    "# print('Before')\n",
    "# print(obj1.dummy_value)\n",
    "# print(obj2.dummy_value)\n",
    "\n",
    "# obj1.dummy_value = 10\n",
    "\n",
    "# print('After')\n",
    "# print(obj1.dummy_value)\n",
    "# print(obj2.dummy_value)\n",
    "\n",
    "# Deep copy\n",
    "\n",
    "# import copy\n",
    "\n",
    "# obj1 = DummyClass()\n",
    "# obj2 = copy.deepcopy(obj1)\n",
    "\n",
    "# print('Before')\n",
    "# print(obj1.dummy_value)\n",
    "# print(obj2.dummy_value)\n",
    "\n",
    "# obj1.dummy_value = 10\n",
    "\n",
    "# print('After')\n",
    "# print(obj1.dummy_value)\n",
    "# print(obj2.dummy_value)\n",
    "\n",
    "# Identity operator\n",
    "# obj1 = DummyClass()\n",
    "# obj2 = obj1\n",
    "\n",
    "# print(obj1 is obj2)\n",
    "\n",
    "# obj1 = DummyClass()\n",
    "# obj2 = copy.deepcopy(obj1)\n",
    "# print(obj1 is obj2)"
   ]
  },
  {
   "cell_type": "markdown",
   "metadata": {
    "slideshow": {
     "slide_type": "subslide"
    }
   },
   "source": [
    "- Let us create a dummy class "
   ]
  },
  {
   "cell_type": "code",
   "execution_count": 70,
   "metadata": {
    "slideshow": {
     "slide_type": "-"
    }
   },
   "outputs": [],
   "source": [
    "class DummyClass:\n",
    "    def __init__(self):\n",
    "        self.dummy_value = 5"
   ]
  },
  {
   "cell_type": "markdown",
   "metadata": {
    "slideshow": {
     "slide_type": "fragment"
    }
   },
   "source": [
    "- Let us create a shallow copy"
   ]
  },
  {
   "cell_type": "code",
   "execution_count": 71,
   "metadata": {
    "slideshow": {
     "slide_type": "-"
    }
   },
   "outputs": [
    {
     "name": "stdout",
     "output_type": "stream",
     "text": [
      "Before\n",
      "5\n",
      "5\n",
      "After\n",
      "10\n",
      "10\n"
     ]
    }
   ],
   "source": [
    "obj1 = DummyClass()\n",
    "obj2 = obj1\n",
    "\n",
    "print('Before')\n",
    "print(obj1.dummy_value)\n",
    "print(obj2.dummy_value)\n",
    "\n",
    "obj1.dummy_value = 10\n",
    "\n",
    "print('After')\n",
    "print(obj1.dummy_value)\n",
    "print(obj2.dummy_value)"
   ]
  },
  {
   "cell_type": "markdown",
   "metadata": {
    "slideshow": {
     "slide_type": "fragment"
    }
   },
   "source": [
    "- Let us create a deep copy"
   ]
  },
  {
   "cell_type": "code",
   "execution_count": 72,
   "metadata": {
    "slideshow": {
     "slide_type": "-"
    }
   },
   "outputs": [
    {
     "name": "stdout",
     "output_type": "stream",
     "text": [
      "Before\n",
      "5\n",
      "5\n",
      "After\n",
      "10\n",
      "5\n"
     ]
    }
   ],
   "source": [
    "import copy\n",
    "\n",
    "obj1 = DummyClass()\n",
    "obj2 = copy.deepcopy(obj1)\n",
    "\n",
    "print('Before')\n",
    "print(obj1.dummy_value)\n",
    "print(obj2.dummy_value)\n",
    "\n",
    "obj1.dummy_value = 10\n",
    "\n",
    "print('After')\n",
    "print(obj1.dummy_value)\n",
    "print(obj2.dummy_value)"
   ]
  },
  {
   "cell_type": "markdown",
   "metadata": {
    "slideshow": {
     "slide_type": "fragment"
    }
   },
   "source": [
    "- How the identity operator works"
   ]
  },
  {
   "cell_type": "code",
   "execution_count": 74,
   "metadata": {
    "slideshow": {
     "slide_type": "-"
    }
   },
   "outputs": [
    {
     "name": "stdout",
     "output_type": "stream",
     "text": [
      "True\n",
      "\n",
      "\n"
     ]
    }
   ],
   "source": [
    "obj1 = DummyClass()\n",
    "obj2 = obj1\n",
    "\n",
    "print(obj1 is obj2)\n",
    "print()\n",
    "print()\n"
   ]
  },
  {
   "cell_type": "code",
   "execution_count": 27,
   "metadata": {
    "hide_input": true,
    "slideshow": {
     "slide_type": "subslide"
    }
   },
   "outputs": [
    {
     "data": {
      "text/html": [
       "<iframe src=\"https://onedrive.live.com/embed?cid=19997B1A4B5DBE8D&amp;resid=19997B1A4B5DBE8D%216554&amp;authkey=ALUuXlTatmSCVlo&amp;em=2&amp;wdAr=1.7777777777777777\" width=\"962px\" height=\"565px\" frameborder=\"0\">This is an embedded <a target=\"_blank\" href=\"https://office.com\">Microsoft Office</a> presentation, powered by <a target=\"_blank\" href=\"https://office.com/webapps\">Office</a>.</iframe>\n"
      ],
      "text/plain": [
       "<IPython.core.display.HTML object>"
      ]
     },
     "metadata": {},
     "output_type": "display_data"
    }
   ],
   "source": [
    "%%HTML\n",
    "<iframe src=\"https://onedrive.live.com/embed?cid=19997B1A4B5DBE8D&amp;resid=19997B1A4B5DBE8D%216554&amp;authkey=ALUuXlTatmSCVlo&amp;em=2&amp;wdAr=1.7777777777777777\" width=\"962px\" height=\"565px\" frameborder=\"0\">This is an embedded <a target=\"_blank\" href=\"https://office.com\">Microsoft Office</a> presentation, powered by <a target=\"_blank\" href=\"https://office.com/webapps\">Office</a>.</iframe>"
   ]
  },
  {
   "cell_type": "markdown",
   "metadata": {
    "slideshow": {
     "slide_type": "skip"
    }
   },
   "source": [
    "### Challenges"
   ]
  },
  {
   "cell_type": "markdown",
   "metadata": {
    "slideshow": {
     "slide_type": "skip"
    }
   },
   "source": [
    "## OOP Basics Conclusion"
   ]
  },
  {
   "cell_type": "code",
   "execution_count": 28,
   "metadata": {
    "hide_input": true,
    "slideshow": {
     "slide_type": "slide"
    }
   },
   "outputs": [
    {
     "data": {
      "text/html": [
       "<iframe src=\"https://onedrive.live.com/embed?cid=19997B1A4B5DBE8D&amp;resid=19997B1A4B5DBE8D%216567&amp;authkey=ACYWtzeScGlsA2k&amp;em=2&amp;wdAr=1.7777777777777777\" width=\"962px\" height=\"565px\" frameborder=\"0\">This is an embedded <a target=\"_blank\" href=\"https://office.com\">Microsoft Office</a> presentation, powered by <a target=\"_blank\" href=\"https://office.com/webapps\">Office</a>.</iframe>\n"
      ],
      "text/plain": [
       "<IPython.core.display.HTML object>"
      ]
     },
     "metadata": {},
     "output_type": "display_data"
    }
   ],
   "source": [
    "%%HTML\n",
    "<iframe src=\"https://onedrive.live.com/embed?cid=19997B1A4B5DBE8D&amp;resid=19997B1A4B5DBE8D%216567&amp;authkey=ACYWtzeScGlsA2k&amp;em=2&amp;wdAr=1.7777777777777777\" width=\"962px\" height=\"565px\" frameborder=\"0\">This is an embedded <a target=\"_blank\" href=\"https://office.com\">Microsoft Office</a> presentation, powered by <a target=\"_blank\" href=\"https://office.com/webapps\">Office</a>.</iframe>"
   ]
  }
 ],
 "metadata": {
  "celltoolbar": "Slideshow",
  "kernelspec": {
   "display_name": "Python 3",
   "language": "python",
   "name": "python3"
  },
  "language_info": {
   "codemirror_mode": {
    "name": "ipython",
    "version": 3
   },
   "file_extension": ".py",
   "mimetype": "text/x-python",
   "name": "python",
   "nbconvert_exporter": "python",
   "pygments_lexer": "ipython3",
   "version": "3.7.1"
  },
  "toc": {
   "base_numbering": 1,
   "nav_menu": {},
   "number_sections": true,
   "sideBar": true,
   "skip_h1_title": false,
   "title_cell": "Table of Contents",
   "title_sidebar": "Contents",
   "toc_cell": true,
   "toc_position": {},
   "toc_section_display": true,
   "toc_window_display": false
  },
  "varInspector": {
   "cols": {
    "lenName": 16,
    "lenType": 16,
    "lenVar": 40
   },
   "kernels_config": {
    "python": {
     "delete_cmd_postfix": "",
     "delete_cmd_prefix": "del ",
     "library": "var_list.py",
     "varRefreshCmd": "print(var_dic_list())"
    },
    "r": {
     "delete_cmd_postfix": ") ",
     "delete_cmd_prefix": "rm(",
     "library": "var_list.r",
     "varRefreshCmd": "cat(var_dic_list()) "
    }
   },
   "types_to_exclude": [
    "module",
    "function",
    "builtin_function_or_method",
    "instance",
    "_Feature"
   ],
   "window_display": false
  }
 },
 "nbformat": 4,
 "nbformat_minor": 5
}
